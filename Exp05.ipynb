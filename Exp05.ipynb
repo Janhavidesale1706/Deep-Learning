{
  "nbformat": 4,
  "nbformat_minor": 0,
  "metadata": {
    "colab": {
      "provenance": []
    },
    "kernelspec": {
      "name": "python3",
      "display_name": "Python 3"
    },
    "language_info": {
      "name": "python"
    }
  },
  "cells": [
    {
      "cell_type": "code",
      "execution_count": 13,
      "metadata": {
        "id": "pyacjU99OspW"
      },
      "outputs": [],
      "source": [
        "import keras\n",
        "from keras import layers\n",
        "from keras.datasets import mnist\n",
        "import numpy as np"
      ]
    },
    {
      "cell_type": "code",
      "source": [
        "(x_train, _), (x_test, _) = mnist.load_data()"
      ],
      "metadata": {
        "id": "mk5_gAQMPTgI"
      },
      "execution_count": 14,
      "outputs": []
    },
    {
      "cell_type": "code",
      "source": [
        "x_train = x_train.astype('float32') / 255.\n",
        "x_test = x_train.astype('float32') / 255.\n",
        "x_train = x_train.reshape((len(x_train) , np.prod(x_train.shape[1:])))\n",
        "x_test = x_test.reshape((len(x_test) , np.prod(x_test.shape[1:])))\n",
        "print(x_train.shape)\n",
        "print(x_test.shape)"
      ],
      "metadata": {
        "colab": {
          "base_uri": "https://localhost:8080/"
        },
        "id": "0aXDe-FJPwFY",
        "outputId": "58fd06a9-4d7e-46ed-a3eb-deb3e7febf8e"
      },
      "execution_count": 15,
      "outputs": [
        {
          "output_type": "stream",
          "name": "stdout",
          "text": [
            "(60000, 784)\n",
            "(60000, 784)\n"
          ]
        }
      ]
    },
    {
      "cell_type": "code",
      "source": [
        "encoding_dim = 32\n",
        "\n",
        "input_img = keras.Input(shape=(784,))\n",
        "\n",
        "encoded = layers.Dense(encoding_dim, activation='relu')(input_img)\n",
        "\n",
        "decoded = layers.Dense(784, activation='sigmoid')(encoded)\n",
        "\n",
        "autoencoder = keras.Model(input_img, decoded)"
      ],
      "metadata": {
        "id": "hJRMajdwRmsQ"
      },
      "execution_count": 16,
      "outputs": []
    },
    {
      "cell_type": "code",
      "source": [
        "encoder = keras.Model(input_img, encoded)"
      ],
      "metadata": {
        "id": "peNh5gcjS2oo"
      },
      "execution_count": 17,
      "outputs": []
    },
    {
      "cell_type": "code",
      "source": [
        "encoded_input = keras.Input(shape=(encoding_dim,))\n",
        "\n",
        "decoder_layer = autoencoder.layers[-1]\n",
        "\n",
        "decoder = keras.Model(encoded_input, decoder_layer(encoded_input))\n",
        "\n"
      ],
      "metadata": {
        "id": "U2bCtln9TFIn"
      },
      "execution_count": 18,
      "outputs": []
    },
    {
      "cell_type": "code",
      "source": [
        "autoencoder.compile(optimizer='adam' , loss='binary_crossentropy')"
      ],
      "metadata": {
        "id": "HXskJo1aTbNv"
      },
      "execution_count": 19,
      "outputs": []
    },
    {
      "cell_type": "code",
      "source": [
        "autoencoder.fit(x_train, x_train,\n",
        "                epochs=20,\n",
        "                batch_size=64,\n",
        "                shuffle=True,\n",
        "                validation_data=(x_test, x_test))"
      ],
      "metadata": {
        "colab": {
          "base_uri": "https://localhost:8080/"
        },
        "id": "0SZvIs4EUVfg",
        "outputId": "f9a47a7b-b846-4129-f31a-3963949b155f"
      },
      "execution_count": 20,
      "outputs": [
        {
          "output_type": "stream",
          "name": "stdout",
          "text": [
            "Epoch 1/20\n",
            "938/938 [==============================] - 10s 10ms/step - loss: 0.1885 - val_loss: 0.4295\n",
            "Epoch 2/20\n",
            "938/938 [==============================] - 9s 9ms/step - loss: 0.1183 - val_loss: 0.2279\n",
            "Epoch 3/20\n",
            "938/938 [==============================] - 8s 8ms/step - loss: 0.1034 - val_loss: 0.0997\n",
            "Epoch 4/20\n",
            "938/938 [==============================] - 8s 9ms/step - loss: 0.0974 - val_loss: 0.0530\n",
            "Epoch 5/20\n",
            "938/938 [==============================] - 9s 9ms/step - loss: 0.0954 - val_loss: 0.0381\n",
            "Epoch 6/20\n",
            "938/938 [==============================] - 7s 8ms/step - loss: 0.0947 - val_loss: 0.0308\n",
            "Epoch 7/20\n",
            "938/938 [==============================] - 10s 10ms/step - loss: 0.0943 - val_loss: 0.0264\n",
            "Epoch 8/20\n",
            "938/938 [==============================] - 9s 9ms/step - loss: 0.0941 - val_loss: 0.0235\n",
            "Epoch 9/20\n",
            "938/938 [==============================] - 15s 16ms/step - loss: 0.0939 - val_loss: 0.0210\n",
            "Epoch 10/20\n",
            "938/938 [==============================] - 14s 15ms/step - loss: 0.0938 - val_loss: 0.0192\n",
            "Epoch 11/20\n",
            "938/938 [==============================] - 15s 16ms/step - loss: 0.0937 - val_loss: 0.0179\n",
            "Epoch 12/20\n",
            "938/938 [==============================] - 13s 14ms/step - loss: 0.0936 - val_loss: 0.0166\n",
            "Epoch 13/20\n",
            "938/938 [==============================] - 13s 14ms/step - loss: 0.0935 - val_loss: 0.0157\n",
            "Epoch 14/20\n",
            "938/938 [==============================] - 10s 11ms/step - loss: 0.0935 - val_loss: 0.0148\n",
            "Epoch 15/20\n",
            "938/938 [==============================] - 13s 14ms/step - loss: 0.0934 - val_loss: 0.0142\n",
            "Epoch 16/20\n",
            "938/938 [==============================] - 14s 15ms/step - loss: 0.0934 - val_loss: 0.0136\n",
            "Epoch 17/20\n",
            "938/938 [==============================] - 12s 12ms/step - loss: 0.0933 - val_loss: 0.0132\n",
            "Epoch 18/20\n",
            "938/938 [==============================] - 11s 12ms/step - loss: 0.0933 - val_loss: 0.0128\n",
            "Epoch 19/20\n",
            "938/938 [==============================] - 13s 14ms/step - loss: 0.0933 - val_loss: 0.0125\n",
            "Epoch 20/20\n",
            "938/938 [==============================] - 8s 8ms/step - loss: 0.0932 - val_loss: 0.0121\n"
          ]
        },
        {
          "output_type": "execute_result",
          "data": {
            "text/plain": [
              "<keras.callbacks.History at 0x7e39a7c1e6b0>"
            ]
          },
          "metadata": {},
          "execution_count": 20
        }
      ]
    },
    {
      "cell_type": "code",
      "source": [
        "encoded_imgs = encoder.predict(x_test)\n",
        "decoded_imgs = decoder.predict(encoded_imgs)\n"
      ],
      "metadata": {
        "colab": {
          "base_uri": "https://localhost:8080/"
        },
        "id": "gCpZ8hJYU0Lw",
        "outputId": "96abe31b-b19c-4e11-d7b1-858c010dc685"
      },
      "execution_count": 10,
      "outputs": [
        {
          "output_type": "stream",
          "name": "stdout",
          "text": [
            "1875/1875 [==============================] - 4s 2ms/step\n",
            "1875/1875 [==============================] - 3s 1ms/step\n"
          ]
        }
      ]
    },
    {
      "cell_type": "code",
      "source": [
        "import matplotlib.pyplot as plt\n",
        "\n",
        "n = 10\n",
        "plt.figure(figsize=(20,4))\n",
        "for i in range(n):\n",
        "  ax = plt.subplot(2, n, i+1)\n",
        "  plt.imshow(x_test[i].reshape(28,28))\n",
        "  plt.gray()\n",
        "  ax.get_xaxis(). set_visible(False)\n",
        "  ax.get_yaxis(). set_visible(False)\n",
        "\n",
        "  ax = plt.subplot(2, n, i + 1 + n)\n",
        "  plt.imshow(decoded_imgs[i].reshape(28,28))\n",
        "  plt.gray()\n",
        "  ax.get_xaxis(). set_visible(False)\n",
        "  ax.get_yaxis(). set_visible(False)\n",
        "  plt.show()\n",
        ""
      ],
      "metadata": {
        "colab": {
          "base_uri": "https://localhost:8080/",
          "height": 1000
        },
        "id": "xzKNkznIVYEh",
        "outputId": "2b255c96-05af-4e17-b270-6af6e2a52f8a"
      },
      "execution_count": 22,
      "outputs": [
        {
          "output_type": "display_data",
          "data": {
            "text/plain": [
              "<Figure size 2000x400 with 2 Axes>"
            ],
            "image/png": "[encoded data removed]"
          },
          "metadata": {}
        },
        {
          "output_type": "display_data",
          "data": {
            "text/plain": [
              "<Figure size 640x480 with 2 Axes>"
            ],
            "image/png": "[encoded data removed]"
          },
          "metadata": {}
        },
        {
          "output_type": "display_data",
          "data": {
            "text/plain": [
              "<Figure size 640x480 with 2 Axes>"
            ],
            "image/png": "[encoded data removed]"
          },
          "metadata": {}
        },
        {
          "output_type": "display_data",
          "data": {
            "text/plain": [
              "<Figure size 640x480 with 2 Axes>"
            ],
            "image/png": "[encoded data removed]"
          },
          "metadata": {}
        },
        {
          "output_type": "display_data",
          "data": {
            "text/plain": [
              "<Figure size 640x480 with 2 Axes>"
            ],
            "image/png": "[encoded data removed]"
          },
          "metadata": {}
        },
        {
          "output_type": "display_data",
          "data": {
            "text/plain": [
              "<Figure size 640x480 with 2 Axes>"
            ],
            "image/png": "[encoded data removed]"
          },
          "metadata": {}
        },
        {
          "output_type": "display_data",
          "data": {
            "text/plain": [
              "<Figure size 640x480 with 2 Axes>"
            ],
            "image/png": "[encoded data removed]"
          },
          "metadata": {}
        },
        {
          "output_type": "display_data",
          "data": {
            "text/plain": [
              "<Figure size 640x480 with 2 Axes>"
            ],
            "image/png": "[encoded data removed]"
          },
          "metadata": {}
        },
        {
          "output_type": "display_data",
          "data": {
            "text/plain": [
              "<Figure size 640x480 with 2 Axes>"
            ],
            "image/png": "[encoded data removed]"
          },
          "metadata": {}
        },
        {
          "output_type": "display_data",
          "data": {
            "text/plain": [
              "<Figure size 640x480 with 2 Axes>"
            ],
            "image/png": "[encoded data removed]"
          },
          "metadata": {}
        }
      ]
    }
  ]
}